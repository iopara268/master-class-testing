{
  "cells": [
    {
      "cell_type": "code",
      "execution_count": null,
      "metadata": {
        "id": "df440527",
        "colab": {
          "base_uri": "https://localhost:8080/"
        },
        "outputId": "01daefcd-e9c2-4644-c01f-5d3982a3c11a"
      },
      "outputs": [
        {
          "output_type": "stream",
          "name": "stdout",
          "text": [
            "Mounted at /content/drive\n"
          ]
        }
      ],
      "source": [
        "from PIL import Image\n",
        "import os\n",
        "import torch\n",
        "import pandas as pd\n",
        "import matplotlib.pyplot as plt\n",
        "import torchvision.transforms as transforms\n",
        "\n",
        "from google.colab import drive\n",
        "drive.mount('/content/drive')"
      ],
      "id": "df440527"
    },
    {
      "cell_type": "code",
      "execution_count": null,
      "metadata": {
        "id": "mfivOFg-t9oN"
      },
      "outputs": [],
      "source": [
        "DATASET_DIR = '/content/drive/MyDrive/Face'"
      ],
      "id": "mfivOFg-t9oN"
    },
    {
      "cell_type": "code",
      "source": [
        "def load_image_tensor(filepath):\n",
        "    img = Image.open(filepath)\n",
        "    transform = transforms.Compose([\n",
        "        transforms.PILToTensor()\n",
        "    ])\n",
        "    img_tensor = transform(img)\n",
        "\n",
        "    return img_tensor\n",
        "\n",
        "img = load_image_tensor(f\"{DATASET_DIR}/train/angry/Training_3908.jpg\").reshape(48, 48)\n",
        "plt.imshow(img,cmap=\"gray\")"
      ],
      "metadata": {
        "id": "S-ZJLG-DreO-",
        "colab": {
          "base_uri": "https://localhost:8080/",
          "height": 448
        },
        "outputId": "8acb672a-766c-402a-b16f-0ba2d72fb7d3"
      },
      "id": "S-ZJLG-DreO-",
      "execution_count": null,
      "outputs": [
        {
          "output_type": "execute_result",
          "data": {
            "text/plain": [
              "<matplotlib.image.AxesImage at 0x79658f8780a0>"
            ]
          },
          "metadata": {},
          "execution_count": 5
        },
        {
          "output_type": "display_data",
          "data": {
            "text/plain": [
              "<Figure size 640x480 with 1 Axes>"
            ],
            "image/png": "[encoded data removed]"
          },
          "metadata": {}
        }
      ]
    },
    {
      "cell_type": "code",
      "execution_count": null,
      "metadata": {
        "id": "NPoeHrsMiSIO"
      },
      "outputs": [],
      "source": [
        "Image_list = []\n",
        "Label_list = []\n",
        "label_dic = {\"angry\":0, \"disgust\":1, \"fear\":2, \"happy\":3, \"neutral\":4, \"sad\":5, \"surprise\":6,}\n",
        "for folder in os.listdir(DATASET_DIR):\n",
        "    for label in os.listdir(f\"{DATASET_DIR}/\"+folder):\n",
        "        for image in os.listdir(f\"{DATASET_DIR}/\"+folder+\"/\"+label):\n",
        "            Image_list.append(f\"{DATASET_DIR}/\"+folder+\"/\"+label+\"/\"+image)\n",
        "            Label_list.append(label_dic[label])\n",
        "\n",
        "Image_df = pd.DataFrame(Image_list,columns=[\"Image Path\"])\n",
        "Label_df = pd.DataFrame(Label_list,columns=[\"Label\"])\n",
        "Dataset_df = pd.concat([Image_df,Label_df],axis=1)"
      ],
      "id": "NPoeHrsMiSIO"
    },
    {
      "cell_type": "code",
      "execution_count": null,
      "metadata": {
        "id": "CmlRQDwiPAjG"
      },
      "outputs": [],
      "source": [
        "from torch.utils.data import Dataset\n",
        "\n",
        "class FERDataset(Dataset):\n",
        "    def __init__(self, dataset_df):\n",
        "        super().__init__()\n",
        "        self.dataframe = dataset_df[:35880]\n",
        "\n",
        "    def __len__(self):\n",
        "        return len(self.dataframe)\n",
        "\n",
        "    def __getitem__(self, i):\n",
        "        return self.dataframe.iloc[i]"
      ],
      "id": "CmlRQDwiPAjG"
    },
    {
      "cell_type": "code",
      "execution_count": null,
      "metadata": {
        "colab": {
          "base_uri": "https://localhost:8080/"
        },
        "id": "09bGDHrJPRDi",
        "outputId": "81c3856e-aeb6-470f-ea79-d120b99d622f"
      },
      "outputs": [
        {
          "name": "stdout",
          "output_type": "stream",
          "text": [
            "Error: File not found at Face/train/angry/Training_3908.jpg\n"
          ]
        }
      ],
      "source": [
        "import multiprocessing as mp\n",
        "from torch.utils.data import DataLoader, random_split\n",
        "\n",
        "def custom_collate_fn(batch):\n",
        "    image_batch_tensor = torch.FloatTensor(len(batch), 48, 48)\n",
        "    image_tensors = []\n",
        "    labels = []\n",
        "    for item in batch:\n",
        "        image_tensor = load_image_tensor(item[0])\n",
        "        image_tensors.append(image_tensor)\n",
        "        labels.append(item[1])\n",
        "\n",
        "\n",
        "    torch.cat(image_tensors, out=image_batch_tensor)\n",
        "    label_batch_tensor = torch.LongTensor(labels)\n",
        "    return (image_batch_tensor, label_batch_tensor)\n",
        "\n",
        "\n",
        "def load_data(dataset_df, batch_sz=100, train_val_test_split=[0.3, 0.2, 0.5]):\n",
        "\n",
        "    assert sum(train_val_test_split) == 1, \"Train, val and test fractions should sum to 1!\"\n",
        "    dataset = FERDataset(dataset_df)\n",
        "\n",
        "    tr_va_te = []\n",
        "    for frac in train_val_test_split:\n",
        "        actual_count = frac * len(dataset)\n",
        "        actual_count = round(actual_count)\n",
        "        tr_va_te.append(actual_count)\n",
        "\n",
        "    # split dataset into train, val and test\n",
        "    train_split, val_split, test_split = random_split(dataset, tr_va_te)\n",
        "\n",
        "\n",
        "    n_cpus = mp.cpu_count() # returns number of CPU cores on this machine\n",
        "    train_dl = DataLoader(train_split,\n",
        "                          batch_size=batch_sz,\n",
        "                          shuffle=True,\n",
        "                          collate_fn=custom_collate_fn,\n",
        "                          num_workers=n_cpus)\n",
        "    val_dl = DataLoader(val_split,\n",
        "                        batch_size=batch_sz,\n",
        "                        shuffle=True,\n",
        "                        collate_fn=custom_collate_fn,\n",
        "                        num_workers=n_cpus)\n",
        "    test_dl = DataLoader(test_split,\n",
        "                         batch_size=batch_sz,\n",
        "                         shuffle=False,\n",
        "                         collate_fn=custom_collate_fn,\n",
        "                         num_workers=n_cpus)\n",
        "    return train_dl, val_dl, test_dl\n"
      ],
      "id": "09bGDHrJPRDi"
    },
    {
      "cell_type": "code",
      "source": [
        "train_dl, val_dl, test_dl = load_data(Dataset_df, batch_sz=4)"
      ],
      "metadata": {
        "id": "VLor29c4r23_"
      },
      "id": "VLor29c4r23_",
      "execution_count": null,
      "outputs": []
    },
    {
      "cell_type": "code",
      "execution_count": null,
      "metadata": {
        "id": "VdXqLGA4Pjok"
      },
      "outputs": [],
      "source": [
        "def image_grid(batch, ncols=4):\n",
        "    height, width = batch[0].shape\n",
        "    nrows = len(batch)//ncols # calculate the number of rows based on the number of columns needed by the user\n",
        "\n",
        "    img_grid = (batch.reshape(nrows, ncols, height, width)\n",
        "              .swapaxes(1,2)\n",
        "              .reshape(height*nrows, width*ncols))\n",
        "\n",
        "    return img_grid\n",
        "\n",
        "\n",
        "def show_batch(batch, title=\"Image batch\", cols=4):\n",
        "    N = len(batch)\n",
        "    if N > cols:\n",
        "        assert N % cols == 0, \"Number of cols must be a multiple of N\"\n",
        "\n",
        "    result = image_grid(batch, cols)\n",
        "    fig = plt.figure(figsize=(4., 4.))\n",
        "    plt.suptitle(f\"{title} [{int(N/cols)}x{cols}]\")\n",
        "    plt.imshow(result, cmap='gray')"
      ],
      "id": "VdXqLGA4Pjok"
    },
    {
      "cell_type": "code",
      "execution_count": null,
      "metadata": {
        "id": "IGWNk40vi81i"
      },
      "outputs": [],
      "source": [
        "train_images, _ = next(iter(train_dl))\n",
        "test_images, _ = next(iter(test_dl))\n",
        "\n",
        "show_batch(train_images, title=\"Train images\", cols=4)\n",
        "show_batch(test_images, title=\"Test images\", cols=4)"
      ],
      "id": "IGWNk40vi81i"
    },
    {
      "cell_type": "code",
      "execution_count": null,
      "metadata": {
        "colab": {
          "base_uri": "https://localhost:8080/"
        },
        "id": "EFC6l9umQI_y",
        "outputId": "d32f5050-4ed9-40a0-c113-b7d45901e839"
      },
      "outputs": [
        {
          "name": "stdout",
          "output_type": "stream",
          "text": [
            "/content/Face/train/angry/Training_3908.jpg\n"
          ]
        }
      ],
      "source": [
        "from torch.optim.lr_scheduler import ExponentialLR\n",
        "import torch.nn as nn\n",
        "from torchsummary import summary\n"
      ],
      "id": "EFC6l9umQI_y"
    },
    {
      "cell_type": "code",
      "execution_count": null,
      "metadata": {
        "colab": {
          "base_uri": "https://localhost:8080/"
        },
        "id": "Om1j90ZmP5jM",
        "outputId": "ed32155e-f493-470f-a4af-646aa440392f"
      },
      "outputs": [
        {
          "name": "stdout",
          "output_type": "stream",
          "text": [
            "/content\n"
          ]
        }
      ],
      "source": [
        "def train_model_gpu_lr(model, epochs, train_dl, optimiser, lr_scheduler, device):\n",
        "    msg = \"\"\n",
        "    for epoch in range(epochs):\n",
        "        total_steps = len(train_dl)\n",
        "        correct = 0\n",
        "        total = 0\n",
        "        model.train()\n",
        "        for batch_num, (image_batch, label_batch) in enumerate(train_dl):\n",
        "            batch_sz = len(image_batch)\n",
        "\n",
        "            image_batch = image_batch.to(device)\n",
        "            label_batch = label_batch.to(device)\n",
        "            output = model(image_batch)\n",
        "            losses = nn.CrossEntropyLoss()(output, label_batch)\n",
        "\n",
        "            optimiser.zero_grad()\n",
        "            losses.backward()\n",
        "            optimiser.step()\n",
        "\n",
        "            preds = torch.argmax(output, dim=1)\n",
        "            correct += int(torch.eq(preds, label_batch).sum())\n",
        "            total += batch_sz\n",
        "            minibatch_accuracy = 100 * correct / total\n",
        "\n",
        "\n",
        "            if (batch_num + 1) % 5 == 0:\n",
        "              print(\"\\r \" * len(msg), end='')\n",
        "              msg = f'\\rTrain epoch[{epoch+1}/{epochs}], MiniBatch[{batch_num + 1}/{total_steps}], Loss: {losses.item():.5f}, Acc: {minibatch_accuracy:.5f}, LR: {lr_scheduler.get_last_lr()[0]:.5f}'\n",
        "              print (msg, end='' if epoch < epochs else \"\\n\",flush=True)"
      ],
      "id": "Om1j90ZmP5jM"
    },
    {
      "cell_type": "code",
      "source": [
        "import torch\n",
        "import torch.nn as nn\n",
        "from torchsummary import summary\n",
        "\n",
        "def get_simple_conv_net():\n",
        "    return nn.Sequential(\n",
        "        nn.Conv2d(in_channels=1, out_channels=16, kernel_size=5, stride=1, padding=2),\n",
        "        nn.ReLU(),\n",
        "        nn.MaxPool2d(kernel_size=(2, 2)),\n",
        "        nn.Flatten(),\n",
        "        nn.Linear(16 * 14 * 14, 128),\n",
        "        nn.ReLU(),\n",
        "        nn.Linear(128, 10)\n",
        "    )\n",
        "\n",
        "model = get_simple_conv_net()\n",
        "\n",
        "device = torch.device(\"cuda\" if torch.cuda.is_available() else \"cpu\")\n",
        "model = model.to(device)\n",
        "\n",
        "\n",
        "summary(model, input_size=(1, 28, 28))\n"
      ],
      "metadata": {
        "id": "m13UQRdFsLjv",
        "colab": {
          "base_uri": "https://localhost:8080/"
        },
        "outputId": "408d0445-c63e-435a-d149-bef20bc2581b"
      },
      "id": "m13UQRdFsLjv",
      "execution_count": null,
      "outputs": [
        {
          "output_type": "stream",
          "name": "stdout",
          "text": [
            "----------------------------------------------------------------\n",
            "        Layer (type)               Output Shape         Param #\n",
            "================================================================\n",
            "            Conv2d-1           [-1, 16, 28, 28]             416\n",
            "              ReLU-2           [-1, 16, 28, 28]               0\n",
            "         MaxPool2d-3           [-1, 16, 14, 14]               0\n",
            "           Flatten-4                 [-1, 3136]               0\n",
            "            Linear-5                  [-1, 128]         401,536\n",
            "              ReLU-6                  [-1, 128]               0\n",
            "            Linear-7                   [-1, 10]           1,290\n",
            "================================================================\n",
            "Total params: 403,242\n",
            "Trainable params: 403,242\n",
            "Non-trainable params: 0\n",
            "----------------------------------------------------------------\n",
            "Input size (MB): 0.00\n",
            "Forward/backward pass size (MB): 0.24\n",
            "Params size (MB): 1.54\n",
            "Estimated Total Size (MB): 1.78\n",
            "----------------------------------------------------------------\n"
          ]
        }
      ]
    },
    {
      "cell_type": "code",
      "source": [
        "def train_model_gpu_lr_conv(model, epochs, train_dl, optimiser, lr_scheduler):\n",
        "    msg = \"\"\n",
        "    for epoch in range(epochs):\n",
        "        total_steps = len(train_dl)\n",
        "        correct = 0\n",
        "        total = 0\n",
        "\n",
        "        model.train()\n",
        "        for batch_num, (image_batch, label_batch) in enumerate(train_dl):\n",
        "            batch_sz = len(image_batch)\n",
        "            label_batch = label_batch.to(DEVICE)\n",
        "            image_batch = image_batch.to(DEVICE).reshape(batch_sz, 1, 28, 28)\n",
        "            output = model(image_batch)\n",
        "            losses = nn.CrossEntropyLoss()(output, label_batch)\n",
        "\n",
        "            optimiser.zero_grad()\n",
        "            losses.backward()\n",
        "            optimiser.step()\n",
        "\n",
        "            preds = torch.argmax(output, dim=1)\n",
        "            correct += int(torch.eq(preds, label_batch).sum())\n",
        "            total += batch_sz\n",
        "            minibatch_accuracy = 100 * correct / total\n",
        "\n",
        "\n",
        "            if (batch_num + 1) % 5 == 0:\n",
        "                print(\" \" * len(msg), end='\\r')\n",
        "                msg = f'Train epoch[{epoch+1}/{epochs}], MiniBatch[{batch_num + 1}/{total_steps}], Loss: {losses.item():.5f}, Acc: {minibatch_accuracy:.5f}, LR: {lr_scheduler.get_last_lr()[0]:.5f}'\n",
        "                print (msg, end='\\r' if epoch < epochs else \"\\n\",flush=True)\n",
        "\n",
        "        lr_scheduler.step()"
      ],
      "metadata": {
        "id": "U4Cn3lBTsSfv"
      },
      "id": "U4Cn3lBTsSfv",
      "execution_count": null,
      "outputs": []
    },
    {
      "cell_type": "code",
      "execution_count": null,
      "metadata": {
        "colab": {
          "base_uri": "https://localhost:8080/",
          "height": 247
        },
        "id": "4xK9Vvv_hSP9",
        "outputId": "724dd61e-f4b3-4526-c1c8-a410def26e5c"
      },
      "outputs": [
        {
          "output_type": "error",
          "ename": "NameError",
          "evalue": "name 'load_data' is not defined",
          "traceback": [
            "\u001b[0;31m---------------------------------------------------------------------------\u001b[0m",
            "\u001b[0;31mNameError\u001b[0m                                 Traceback (most recent call last)",
            "\u001b[0;32m<ipython-input-7-860aca4123bf>\u001b[0m in \u001b[0;36m<cell line: 1>\u001b[0;34m()\u001b[0m\n\u001b[0;32m----> 1\u001b[0;31m \u001b[0mtrain_dl\u001b[0m\u001b[0;34m,\u001b[0m \u001b[0mval_dl\u001b[0m\u001b[0;34m,\u001b[0m \u001b[0mtest_dl\u001b[0m \u001b[0;34m=\u001b[0m \u001b[0mload_data\u001b[0m\u001b[0;34m(\u001b[0m\u001b[0mDATA_PATH\u001b[0m\u001b[0;34m,\u001b[0m \u001b[0mbatch_sz\u001b[0m\u001b[0;34m=\u001b[0m\u001b[0mbatch_sz\u001b[0m\u001b[0;34m)\u001b[0m\u001b[0;34m\u001b[0m\u001b[0;34m\u001b[0m\u001b[0m\n\u001b[0m\u001b[1;32m      2\u001b[0m \u001b[0mnetwork\u001b[0m \u001b[0;34m=\u001b[0m \u001b[0mget_simple_conv_net\u001b[0m\u001b[0;34m(\u001b[0m\u001b[0;34m)\u001b[0m\u001b[0;34m\u001b[0m\u001b[0;34m\u001b[0m\u001b[0m\n\u001b[1;32m      3\u001b[0m \u001b[0moptim\u001b[0m \u001b[0;34m=\u001b[0m \u001b[0mSGD\u001b[0m\u001b[0;34m(\u001b[0m\u001b[0mnetwork\u001b[0m\u001b[0;34m.\u001b[0m\u001b[0mparameters\u001b[0m\u001b[0;34m(\u001b[0m\u001b[0;34m)\u001b[0m\u001b[0;34m,\u001b[0m \u001b[0mlr\u001b[0m\u001b[0;34m=\u001b[0m\u001b[0mlearning_rate\u001b[0m\u001b[0;34m)\u001b[0m\u001b[0;34m\u001b[0m\u001b[0;34m\u001b[0m\u001b[0m\n\u001b[1;32m      4\u001b[0m \u001b[0mlr_sch\u001b[0m \u001b[0;34m=\u001b[0m \u001b[0mExponentialLR\u001b[0m\u001b[0;34m(\u001b[0m\u001b[0moptim\u001b[0m\u001b[0;34m,\u001b[0m \u001b[0mgamma\u001b[0m\u001b[0;34m=\u001b[0m\u001b[0mgamma\u001b[0m\u001b[0;34m)\u001b[0m\u001b[0;34m\u001b[0m\u001b[0;34m\u001b[0m\u001b[0m\n\u001b[1;32m      5\u001b[0m \u001b[0mnetwork\u001b[0m \u001b[0;34m=\u001b[0m \u001b[0mnetwork\u001b[0m\u001b[0;34m.\u001b[0m\u001b[0mto\u001b[0m\u001b[0;34m(\u001b[0m\u001b[0mDEVICE\u001b[0m\u001b[0;34m)\u001b[0m\u001b[0;34m\u001b[0m\u001b[0;34m\u001b[0m\u001b[0m\n",
            "\u001b[0;31mNameError\u001b[0m: name 'load_data' is not defined"
          ]
        }
      ],
      "source": [
        "train_dl, val_dl, test_dl = load_data(DATA_PATH, batch_sz=batch_sz)\n",
        "network = get_simple_conv_net()\n",
        "optim = SGD(network.parameters(), lr=learning_rate)\n",
        "lr_sch = ExponentialLR(optim, gamma=gamma)\n",
        "network = network.to(DEVICE)\n",
        "train_model_gpu_lr_conv(network, epochs, train_dl, optim, lr_sch)\n"
      ],
      "id": "4xK9Vvv_hSP9"
    },
    {
      "cell_type": "code",
      "source": [
        "\n",
        "DATA_PATH = \"DATASET_DIR\"\n",
        "\n",
        "train_dl, val_dl, test_dl = load_data(DATA_PATH, batch_sz=batch_sz)\n",
        "network = get_simple_conv_net()\n",
        "optim = SGD(network.parameters(), lr=learning_rate)\n",
        "lr_sch = ExponentialLR(optim, gamma=gamma)\n",
        "network = network.to(DEVICE)\n",
        "train_model_gpu_lr_conv(network, epochs, train_dl, optim, lr_sch)\n"
      ],
      "metadata": {
        "id": "9aQPUWWNsZl2"
      },
      "id": "9aQPUWWNsZl2",
      "execution_count": null,
      "outputs": []
    },
    {
      "cell_type": "code",
      "source": [
        "class ResBlock(nn.Module):\n",
        "    def __init__(self, in_channels, out_channels, downsample):\n",
        "        super().__init__()\n",
        "        if downsample:\n",
        "            self.conv1 = nn.Conv2d(in_channels, out_channels, kernel_size=3, stride=2, padding=1)\n",
        "            self.shortcut = nn.Sequential(\n",
        "                nn.Conv2d(in_channels, out_channels, kernel_size=1, stride=2),\n",
        "                nn.BatchNorm2d(out_channels)\n",
        "            )\n",
        "        else:\n",
        "            self.conv1 = nn.Conv2d(in_channels, out_channels, kernel_size=3, stride=1, padding=1)\n",
        "            self.shortcut = nn.Sequential()\n",
        "\n",
        "        self.conv2 = nn.Conv2d(out_channels, out_channels, kernel_size=3, stride=1, padding=1)\n",
        "        self.bn1 = nn.BatchNorm2d(out_channels)\n",
        "        self.bn2 = nn.BatchNorm2d(out_channels)\n",
        "\n",
        "    def forward(self, inp):\n",
        "        shortcut = self.shortcut(inp)\n",
        "        inp = nn.ReLU()(self.bn1(self.conv1(inp)))\n",
        "        inp = nn.ReLU()(self.bn2(self.conv2(inp)))\n",
        "        inp = inp + shortcut  # The magic bit that cannot be done with nn.Sequential!\n",
        "        return nn.ReLU()(inp)\n",
        "\n",
        "\n",
        "\n",
        "class ResNet(nn.Module):\n",
        "    def __init__(self, in_channels, resblock, outputs):\n",
        "        super().__init__()\n",
        "        self.layer0_conv = nn.Conv2d(in_channels, 64, kernel_size=7, stride=2, padding=3)\n",
        "        self.layer0_pool = nn.MaxPool2d(kernel_size=3, stride=2, padding=1)\n",
        "        self.layer0_bn   = nn.BatchNorm2d(64)\n",
        "        self.layer0_relu = nn.ReLU()\n",
        "\n",
        "        self.layer1_res1 = resblock(64, 64, downsample=False)\n",
        "        self.layer1_res2 = resblock(64, 64, downsample=False)\n",
        "\n",
        "        self.layer2_res1 = resblock(64, 128, downsample=True)\n",
        "        self.layer2_res2 = resblock(128, 128, downsample=False)\n",
        "\n",
        "        self.layer3_res1 = resblock(128, 256, downsample=True)\n",
        "        self.layer3_res2 = resblock(256, 256, downsample=False)\n",
        "\n",
        "        self.layer4_res1 = resblock(256, 512, downsample=True)\n",
        "        self.layer4_res2 = resblock(512, 512, downsample=False)\n",
        "\n",
        "        self.gap         = nn.AdaptiveAvgPool2d(1)\n",
        "        self.flat        = nn.Flatten()\n",
        "        self.fc          = nn.Linear(512, outputs)\n",
        "\n",
        "    def forward(self, inp):\n",
        "        inp = self.layer0_conv(inp)\n",
        "        inp = self.layer0_pool(inp)\n",
        "        inp = self.layer0_bn(inp)\n",
        "        inp = self.layer0_relu(inp)\n",
        "\n",
        "        inp = self.layer1_res1(inp)\n",
        "        inp = self.layer1_res2(inp)\n",
        "\n",
        "        inp = self.layer2_res1(inp)\n",
        "        inp = self.layer2_res2(inp)\n",
        "\n",
        "        inp = self.layer3_res1(inp)\n",
        "        inp = self.layer3_res2(inp)\n",
        "\n",
        "        inp = self.layer4_res1(inp)\n",
        "        inp = self.layer4_res2(inp)\n",
        "\n",
        "        inp = self.gap(inp)\n",
        "        inp = self.flat(inp)\n",
        "        inp = self.fc(inp)\n",
        "\n",
        "        return inp\n",
        "\n",
        "\n",
        "# convenience function\n",
        "def get_resnet():\n",
        "    return ResNet(1, ResBlock, outputs=10)\n",
        "\n",
        "\n",
        "# Print model summary\n",
        "summary(get_resnet(), input_size=(1, 28, 28), device=\"cpu\")"
      ],
      "metadata": {
        "id": "XblMIpKAsV4n",
        "colab": {
          "base_uri": "https://localhost:8080/"
        },
        "outputId": "b372d627-a994-4f11-aa72-467a0255a414"
      },
      "id": "XblMIpKAsV4n",
      "execution_count": null,
      "outputs": [
        {
          "output_type": "stream",
          "name": "stdout",
          "text": [
            "----------------------------------------------------------------\n",
            "        Layer (type)               Output Shape         Param #\n",
            "================================================================\n",
            "            Conv2d-1           [-1, 64, 14, 14]           3,200\n",
            "         MaxPool2d-2             [-1, 64, 7, 7]               0\n",
            "       BatchNorm2d-3             [-1, 64, 7, 7]             128\n",
            "              ReLU-4             [-1, 64, 7, 7]               0\n",
            "            Conv2d-5             [-1, 64, 7, 7]          36,928\n",
            "       BatchNorm2d-6             [-1, 64, 7, 7]             128\n",
            "            Conv2d-7             [-1, 64, 7, 7]          36,928\n",
            "       BatchNorm2d-8             [-1, 64, 7, 7]             128\n",
            "          ResBlock-9             [-1, 64, 7, 7]               0\n",
            "           Conv2d-10             [-1, 64, 7, 7]          36,928\n",
            "      BatchNorm2d-11             [-1, 64, 7, 7]             128\n",
            "           Conv2d-12             [-1, 64, 7, 7]          36,928\n",
            "      BatchNorm2d-13             [-1, 64, 7, 7]             128\n",
            "         ResBlock-14             [-1, 64, 7, 7]               0\n",
            "           Conv2d-15            [-1, 128, 4, 4]           8,320\n",
            "      BatchNorm2d-16            [-1, 128, 4, 4]             256\n",
            "           Conv2d-17            [-1, 128, 4, 4]          73,856\n",
            "      BatchNorm2d-18            [-1, 128, 4, 4]             256\n",
            "           Conv2d-19            [-1, 128, 4, 4]         147,584\n",
            "      BatchNorm2d-20            [-1, 128, 4, 4]             256\n",
            "         ResBlock-21            [-1, 128, 4, 4]               0\n",
            "           Conv2d-22            [-1, 128, 4, 4]         147,584\n",
            "      BatchNorm2d-23            [-1, 128, 4, 4]             256\n",
            "           Conv2d-24            [-1, 128, 4, 4]         147,584\n",
            "      BatchNorm2d-25            [-1, 128, 4, 4]             256\n",
            "         ResBlock-26            [-1, 128, 4, 4]               0\n",
            "           Conv2d-27            [-1, 256, 2, 2]          33,024\n",
            "      BatchNorm2d-28            [-1, 256, 2, 2]             512\n",
            "           Conv2d-29            [-1, 256, 2, 2]         295,168\n",
            "      BatchNorm2d-30            [-1, 256, 2, 2]             512\n",
            "           Conv2d-31            [-1, 256, 2, 2]         590,080\n",
            "      BatchNorm2d-32            [-1, 256, 2, 2]             512\n",
            "         ResBlock-33            [-1, 256, 2, 2]               0\n",
            "           Conv2d-34            [-1, 256, 2, 2]         590,080\n",
            "      BatchNorm2d-35            [-1, 256, 2, 2]             512\n",
            "           Conv2d-36            [-1, 256, 2, 2]         590,080\n",
            "      BatchNorm2d-37            [-1, 256, 2, 2]             512\n",
            "         ResBlock-38            [-1, 256, 2, 2]               0\n",
            "           Conv2d-39            [-1, 512, 1, 1]         131,584\n",
            "      BatchNorm2d-40            [-1, 512, 1, 1]           1,024\n",
            "           Conv2d-41            [-1, 512, 1, 1]       1,180,160\n",
            "      BatchNorm2d-42            [-1, 512, 1, 1]           1,024\n",
            "           Conv2d-43            [-1, 512, 1, 1]       2,359,808\n",
            "      BatchNorm2d-44            [-1, 512, 1, 1]           1,024\n",
            "         ResBlock-45            [-1, 512, 1, 1]               0\n",
            "           Conv2d-46            [-1, 512, 1, 1]       2,359,808\n",
            "      BatchNorm2d-47            [-1, 512, 1, 1]           1,024\n",
            "           Conv2d-48            [-1, 512, 1, 1]       2,359,808\n",
            "      BatchNorm2d-49            [-1, 512, 1, 1]           1,024\n",
            "         ResBlock-50            [-1, 512, 1, 1]               0\n",
            "AdaptiveAvgPool2d-51            [-1, 512, 1, 1]               0\n",
            "          Flatten-52                  [-1, 512]               0\n",
            "           Linear-53                   [-1, 10]           5,130\n",
            "================================================================\n",
            "Total params: 11,180,170\n",
            "Trainable params: 11,180,170\n",
            "Non-trainable params: 0\n",
            "----------------------------------------------------------------\n",
            "Input size (MB): 0.00\n",
            "Forward/backward pass size (MB): 0.74\n",
            "Params size (MB): 42.65\n",
            "Estimated Total Size (MB): 43.39\n",
            "----------------------------------------------------------------\n"
          ]
        }
      ]
    },
    {
      "cell_type": "code",
      "source": [
        "from PIL import Image\n",
        "import os\n",
        "import torch\n",
        "import pandas as pd\n",
        "import matplotlib.pyplot as plt\n",
        "import torchvision.transforms as transforms\n",
        "DATASET_DIR = 'data/images'\n",
        "\n",
        "def load_image_tensor(filepath):\n",
        "    img = Image.open(filepath)\n",
        "    transform = transforms.Compose([\n",
        "        transforms.PILToTensor()\n",
        "    ])\n",
        "    img_tensor = transform(img)\n",
        "\n",
        "    return img_tensor\n",
        "\n",
        "img = load_image_tensor(f\"{DATASET_DIR}/train/angry/3905.jpg\").reshape(48, 48)\n",
        "plt.imshow(img,cmap=\"gray\")\n",
        "\n",
        "plt.imshow(img)\n",
        "plt.axis('off')\n",
        "plt.text(50, 50, \"Angry\", color='red', fontsize=12, bbox=dict(facecolor='white', alpha=0.7))\n",
        "plt.show()\n",
        "\n",
        "Image_list = []\n",
        "Label_list = []\n",
        "label_dic = {\"angry\":0, \"disgust\":1, \"fear\":2, \"happy\":3, \"neutral\":4, \"sad\":5, \"surprise\":6,}\n",
        "for folder in os.listdir(DATASET_DIR):\n",
        "    for label in os.listdir(f\"{DATASET_DIR}/\"+folder):\n",
        "        for image in os.listdir(f\"{DATASET_DIR}/\"+folder+\"/\"+label):\n",
        "            Image_list.append(f\"{DATASET_DIR}/\"+folder+\"/\"+label+\"/\"+image)\n",
        "            Label_list.append(label_dic[label])\n",
        "\n",
        "Image_df = pd.DataFrame(Image_list,columns=[\"Image Path\"])\n",
        "Label_df = pd.DataFrame(Label_list,columns=[\"Label\"])\n",
        "Dataset_df = pd.concat([Image_df,Label_df],axis=1)\n",
        "\n",
        "from torch.utils.data import Dataset\n",
        "\n",
        "class FERDataset(Dataset):\n",
        "    def __init__(self, dataset_df):\n",
        "        super().__init__()\n",
        "        # self.dataframe = dataset_df[:35880]\n",
        "        self.dataframe = dataset_df\n",
        "\n",
        "    def __len__(self):\n",
        "        return len(self.dataframe)\n",
        "\n",
        "    def __getitem__(self, i):\n",
        "        return self.dataframe.iloc[i]\n",
        "\n",
        "import multiprocessing as mp\n",
        "from torch.utils.data import DataLoader, random_split\n",
        "\n",
        "def custom_collate_fn(batch):\n",
        "    image_batch_tensor = torch.FloatTensor(len(batch), 48, 48)\n",
        "    image_tensors = []\n",
        "    labels = []\n",
        "    for item in batch:\n",
        "        image_tensor = load_image_tensor(item.iloc[0])\n",
        "        image_tensors.append(image_tensor)\n",
        "        labels.append(item.iloc[1])\n",
        "\n",
        "    torch.cat(image_tensors, out=image_batch_tensor)\n",
        "    label_batch_tensor = torch.LongTensor(labels)\n",
        "    return (image_batch_tensor, label_batch_tensor)\n",
        "\n",
        "\n",
        "def load_data(dataset_df, batch_sz=100, train_val_test_split=[0.3, 0.2, 0.5]):\n",
        "\n",
        "    assert sum(train_val_test_split) == 1, \"Train, val and test fractions should sum to 1!\"\n",
        "    dataset = FERDataset(dataset_df)\n",
        "\n",
        "    tr_va_te = []\n",
        "    for frac in train_val_test_split:\n",
        "        actual_count = frac * len(dataset)\n",
        "        actual_count = round(actual_count)\n",
        "        tr_va_te.append(actual_count)\n",
        "\n",
        "    # split dataset into train, val and test\n",
        "    train_split, val_split, test_split = random_split(dataset, tr_va_te)\n",
        "\n",
        "\n",
        "    n_cpus = mp.cpu_count()\n",
        "    train_dl = DataLoader(train_split,\n",
        "                          batch_size=batch_sz,\n",
        "                          shuffle=True,\n",
        "                          collate_fn=custom_collate_fn,\n",
        "                          num_workers=n_cpus)\n",
        "    val_dl = DataLoader(val_split,\n",
        "                        batch_size=batch_sz,\n",
        "                        shuffle=True,\n",
        "                        collate_fn=custom_collate_fn,\n",
        "                        num_workers=n_cpus)\n",
        "    test_dl = DataLoader(test_split,\n",
        "                         batch_size=batch_sz,\n",
        "                         shuffle=False,\n",
        "                         collate_fn=custom_collate_fn,\n",
        "                         num_workers=n_cpus)\n",
        "    return train_dl, val_dl, test_dl\n",
        "\n",
        "def image_grid(batch, ncols=4):\n",
        "    height, width = batch[0].shape\n",
        "    nrows = len(batch)//ncols\n",
        "    img_grid = (batch.reshape(nrows, ncols, height, width)\n",
        "              .swapaxes(1,2)\n",
        "              .reshape(height*nrows, width*ncols))\n",
        "\n",
        "    return img_grid\n",
        "\n",
        "\n",
        "def show_batch(batch, title=\"Image batch\", cols=4):\n",
        "    N = len(batch)\n",
        "    if N > cols:\n",
        "        assert N % cols == 0, \"Number of cols must be a multiple of N\"\n",
        "\n",
        "    result = image_grid(batch, cols)\n",
        "    fig = plt.figure(figsize=(4., 4.))\n",
        "    plt.suptitle(f\"{title} [{int(N/cols)}x{cols}]\")\n",
        "    plt.imshow(result, cmap='gray')\n",
        "\n",
        "train_dl, val_dl, test_dl = load_data(Dataset_df, batch_sz=16)\n",
        "train_images, _ = next(iter(train_dl))\n",
        "test_images, _ = next(iter(test_dl))\n",
        "\n",
        "show_batch(train_images, title=\"Train images\", cols=4)\n",
        "show_batch(test_images, title=\"Test images\", cols=4)\n",
        "\n",
        "import torch\n",
        "import torch.nn as nn\n",
        "from torchsummary import summary\n",
        "\n",
        "def get_simple_conv_net():\n",
        "    return nn.Sequential(\n",
        "        nn.Conv2d(in_channels=1, out_channels=16, kernel_size=5, stride=1, padding=2),\n",
        "        nn.ReLU(),\n",
        "        nn.MaxPool2d(kernel_size=(2, 2)),\n",
        "        nn.Flatten(),\n",
        "        nn.Linear(16 * 24 * 24, 128),\n",
        "        nn.ReLU(),\n",
        "        nn.Linear(128, 10)\n",
        "    )\n",
        "\n",
        "model = get_simple_conv_net()\n",
        "\n",
        "device = torch.device(\"cuda\" if torch.cuda.is_available() else \"cpu\")\n",
        "model = model.to(device)\n",
        "\n",
        "\n",
        "summary(model, input_size=(1, 48, 48))\n",
        "\n",
        "DEVICE = torch.device(\"cuda\" if torch.cuda.is_available() else \"cpu\")\n",
        "DEVICE\n",
        "\n",
        "\n",
        "\n",
        "import torch\n",
        "from torch.optim import SGD\n",
        "from torch.optim.lr_scheduler import ExponentialLR\n",
        "\n",
        "batch_sz = 16\n",
        "learning_rate = 0.001\n",
        "gamma = 0.8\n",
        "DEVICE = torch.device('cuda' if torch.cuda.is_available() else 'cpu')\n",
        "epochs = 50\n",
        "\n",
        "\n",
        "train_dl, val_dl, test_dl = load_data(Dataset_df, batch_sz=4)\n",
        "\n",
        "network = get_simple_conv_net()\n",
        "optim = SGD(network.parameters(), lr=learning_rate)\n",
        "lr_sch = ExponentialLR(optim, gamma=gamma)\n",
        "network = network.to(DEVICE)\n",
        "train_model_gpu_lr_conv(network, epochs, train_dl, optim, lr_sch)\n",
        "\n",
        "\n",
        "import numpy as np\n",
        "\n",
        "class EarlyStopper:\n",
        "    def __init__(self, patience=1, tolerance=0):\n",
        "       self.patience = patience\n",
        "       self.tolerance = tolerance\n",
        "       self.epoch_counter = 0\n",
        "       self.max_validation_acc = np.NINF\n",
        "\n",
        "    def should_stop(self, validation_acc):\n",
        "        if validation_acc > self.max_validation_acc:\n",
        "            self.max_validation_acc = validation_acc\n",
        "            self.epoch_counter = 0\n",
        "        elif validation_acc < (self.max_validation_acc - self.tolerance):\n",
        "            self.epoch_counter += 1\n",
        "            if self.epoch_counter >= self.patience:\n",
        "                return True\n",
        "        return False\n",
        "import torch\n",
        "from torch.optim import SGD\n",
        "from torch.optim.lr_scheduler import ExponentialLR, ReduceLROnPlateau\n",
        "from torch.utils.tensorboard import SummaryWriter\n",
        "\n",
        "\n",
        "def train_model_final(model,\n",
        "                      epochs,\n",
        "                      dataloaders,\n",
        "                      optimiser,\n",
        "                      lr_scheduler,\n",
        "                      writer,\n",
        "                      early_stopper,\n",
        "                      checkpoint_frequency):\n",
        "    msg = \"\"\n",
        "    for epoch in range(epochs):\n",
        "\n",
        "        model.train()\n",
        "        train_dl = dataloaders['train']\n",
        "\n",
        "        total_steps_train = len(train_dl)\n",
        "        correct_train = 0\n",
        "        total_train = 0\n",
        "        loss_train = 0\n",
        "\n",
        "        for batch_num, (image_batch, label_batch) in enumerate(train_dl):\n",
        "            batch_sz = len(image_batch)\n",
        "            label_batch = label_batch.to(DEVICE)\n",
        "            image_batch = image_batch.to(DEVICE).reshape(batch_sz, 1, 48, 48)\n",
        "            output = model(image_batch)\n",
        "            loss_train = nn.CrossEntropyLoss()(output, label_batch)\n",
        "\n",
        "            optimiser.zero_grad()\n",
        "            loss_train.backward()\n",
        "            optimiser.step()\n",
        "\n",
        "            preds_train = torch.argmax(output, dim=1)\n",
        "            correct_train += int(torch.eq(preds_train, label_batch).sum())\n",
        "            total_train += batch_sz\n",
        "            minibatch_accuracy_train = 100 * correct_train / total_train\n",
        "\n",
        "\n",
        "            if (batch_num + 1) % 5 == 0:\n",
        "                print(\" \" * len(msg), end='\\r')\n",
        "                msg = f'Train epoch[{epoch+1}/{epochs}], MiniBatch[{batch_num + 1}/{total_steps_train}], Loss: {loss_train.item():.5f}, Acc: {minibatch_accuracy_train:.5f}'\n",
        "                print (msg, end='\\r' if epoch < epochs else \"\\n\",flush=True)\n",
        "\n",
        "        print(\"\")\n",
        "\n",
        "\n",
        "\n",
        "USING ALL THSES CODES AND FUNCTIONS, WRITE A SIMPLE UNIT TEST CODE THAT WILL RUN"
      ],
      "metadata": {
        "id": "AFKzXwhjbbyz"
      },
      "id": "AFKzXwhjbbyz",
      "execution_count": null,
      "outputs": []
    },
    {
      "cell_type": "code",
      "source": [
        "\"from torch import (\n",
        "    load_data,\n",
        "    get_simple_conv_net,\n",
        "    train_model_gpu_lr_conv,\n",
        "    EarlyStopper,\n",
        "    train_model_final,\n",
        ")"
      ],
      "metadata": {
        "id": "9PHaMUNUA5st"
      },
      "id": "9PHaMUNUA5st",
      "execution_count": null,
      "outputs": []
    },
    {
      "cell_type": "code",
      "source": [
        "# We do not need to define a new train function as the only changes have been to the internal\n",
        "# structure of the model, not any of its inputs or outputs, so we can keep using\n",
        "# the old one - very handy!\n",
        "\n",
        "# loading data\n",
        "train_dl, val_dl, test_dl = load_data(DATA_PATH, batch_sz=batch_sz)\n",
        "dataloaders = {\n",
        "    'train': train_dl,\n",
        "    'val': val_dl,\n",
        "    'test': test_dl\n",
        "}\n",
        "\n",
        "\n",
        "# Instantiate the res net\n",
        "network = get_resnet()\n",
        "# Send it to the GPU device\n",
        "network = network.to(DEVICE)\n",
        "optim = SGD(network.parameters(), lr=learning_rate)\n",
        "lr_sch = ExponentialLR(optim, gamma)\n",
        "# Call the lateset training function from last week\n",
        "train_model_gpu_lr_conv_valid(network, epochs, dataloaders, optim, lr_sch)"
      ],
      "metadata": {
        "id": "35HZHMdbsd9P"
      },
      "id": "35HZHMdbsd9P",
      "execution_count": null,
      "outputs": []
    },
    {
      "cell_type": "code",
      "source": [
        "class EarlyStopper:\n",
        "    def __init__(self, patience=1, tolerance=0):\n",
        "       self.patience = patience # How many epochs in a row the model is allowed to underperform\n",
        "       self.tolerance = tolerance # How much leeway the model has (i.e. how close it can get to underperforming before it is counted as such)\n",
        "       self.epoch_counter = 0 # Keeping track of how many epochs in a row were failed\n",
        "       self.max_validation_acc = np.NINF # Keeping track of best metric so far\n",
        "\n",
        "    def should_stop(self, validation_acc):\n",
        "        if validation_acc > self.max_validation_acc:\n",
        "            self.max_validation_acc = validation_acc\n",
        "            self.epoch_counter = 0\n",
        "        elif validation_acc < (self.max_validation_acc - self.tolerance):\n",
        "            self.epoch_counter += 1\n",
        "            if self.epoch_counter >= self.patience:\n",
        "                return True\n",
        "        return False"
      ],
      "metadata": {
        "id": "JQq-E2mmsiDn"
      },
      "id": "JQq-E2mmsiDn",
      "execution_count": null,
      "outputs": []
    },
    {
      "cell_type": "code",
      "source": [
        "from torch.utils.tensorboard import SummaryWriter"
      ],
      "metadata": {
        "id": "nzVpfm3hsnsf"
      },
      "id": "nzVpfm3hsnsf",
      "execution_count": null,
      "outputs": []
    },
    {
      "cell_type": "code",
      "source": [
        "import os\n",
        "\n",
        "\n",
        "# Saves a model to file, and names it after the current epoch\n",
        "def save_checkpoint(model, epoch, save_dir):\n",
        "    filename = f\"checkpoint_{epoch}.pth\"\n",
        "    save_path = f\"{save_dir}/{filename}\"\n",
        "    torch.save(model.state_dict(), save_path)"
      ],
      "metadata": {
        "id": "kd6dvSdUspin"
      },
      "id": "kd6dvSdUspin",
      "execution_count": null,
      "outputs": []
    },
    {
      "cell_type": "code",
      "source": [
        "def train_model_final(model,\n",
        "                      epochs,\n",
        "                      dataloaders,\n",
        "                      optimiser,\n",
        "                      lr_scheduler,\n",
        "                      writer,\n",
        "                      early_stopper,\n",
        "                      checkpoint_frequency):\n",
        "    msg = \"\"\n",
        "    for epoch in range(epochs):\n",
        "        #######################TRAINING STEP###################################\n",
        "        model.train()  # set model to training mode\n",
        "        train_dl = dataloaders['train'] # select train dataloader\n",
        "\n",
        "        total_steps_train = len(train_dl)\n",
        "        correct_train = 0\n",
        "        total_train = 0\n",
        "        loss_train = 0\n",
        "\n",
        "        for batch_num, (image_batch, label_batch) in enumerate(train_dl):\n",
        "            batch_sz = len(image_batch)\n",
        "            label_batch = label_batch.to(DEVICE)\n",
        "            image_batch = image_batch.to(DEVICE).reshape(batch_sz, 1, 28, 28)\n",
        "            output = model(image_batch)\n",
        "            loss_train = nn.CrossEntropyLoss()(output, label_batch)\n",
        "\n",
        "            optimiser.zero_grad()\n",
        "            loss_train.backward()\n",
        "            optimiser.step()\n",
        "\n",
        "            preds_train = torch.argmax(output, dim=1)\n",
        "            correct_train += int(torch.eq(preds_train, label_batch).sum())\n",
        "            total_train += batch_sz\n",
        "            minibatch_accuracy_train = 100 * correct_train / total_train\n",
        "\n",
        "            #### Fancy printing stuff, you can ignore this! ######\n",
        "            if (batch_num + 1) % 5 == 0:\n",
        "                print(\" \" * len(msg), end='\\r')\n",
        "                msg = f'Train epoch[{epoch+1}/{epochs}], MiniBatch[{batch_num + 1}/{total_steps_train}], Loss: {loss_train.item():.5f}, Acc: {minibatch_accuracy_train:.5f}, LR: {lr_scheduler.get_last_lr()[0]:.5f}'\n",
        "                print (msg, end='\\r' if epoch < epochs else \"\\n\",flush=True)\n",
        "            #### Fancy printing stuff, you can ignore this! ######\n",
        "        lr_scheduler.step()\n",
        "        ########################################################################\n",
        "        print(\"\") # Create newline between progress bars\n",
        "        #######################VALIDATION STEP##################################\n",
        "        model.eval()  # set model to evaluation mode. This is very important, we do not want to update model weights in eval mode\n",
        "        val_dl = dataloaders['val'] # select val dataloader\n",
        "\n",
        "        total_steps_val = len(val_dl)\n",
        "        correct_val = 0\n",
        "        total_val = 0\n",
        "        loss_val = 0\n",
        "\n",
        "        for batch_num, (image_batch, label_batch) in enumerate(val_dl):\n",
        "            batch_sz = len(image_batch)\n",
        "            label_batch = label_batch.to(DEVICE)\n",
        "            image_batch = image_batch.to(DEVICE).reshape(batch_sz, 1, 28, 28)\n",
        "\n",
        "            with torch.no_grad(): # no_grad disables gradient calculations, which are not needed when evaluating the model. This speeds up the calculations\n",
        "                output = model(image_batch)\n",
        "                loss_val = nn.CrossEntropyLoss()(output, label_batch)\n",
        "\n",
        "                preds_val = torch.argmax(output, dim=1)\n",
        "                correct_val += int(torch.eq(preds_val, label_batch).sum())\n",
        "                total_val += batch_sz\n",
        "                minibatch_accuracy_val = 100 * correct_val / total_val\n",
        "\n",
        "                #### Fancy printing stuff, you can ignore this! ######\n",
        "                if (batch_num + 1) % 5 == 0:\n",
        "                    print(\" \" * len(msg), end='\\r')\n",
        "                    msg = f'Eval epoch[{epoch+1}/{epochs}], MiniBatch[{batch_num + 1}/{total_steps_val}], Loss: {loss_val.item():.5f}, Acc: {minibatch_accuracy_val:.5f}'\n",
        "                    if early_stopper.epoch_counter > 0:\n",
        "                        msg += f\", Epochs without improvement: {early_stopper.epoch_counter}\"\n",
        "                    print (msg, end='\\r' if epoch < epochs else \"\\n\",flush=True)\n",
        "                #### Fancy printing stuff, you can ignore this! ######\n",
        "        ########################################################################\n",
        "        print(\"\")  # Create newline between progress bars\n",
        "\n",
        "        # Log loss and accuracy metrics using the writer so we can see them in Tensorboard\n",
        "        epoch_train_acc = 100 * correct_train / total_train\n",
        "        epoch_val_acc = 100 * correct_val / total_val\n",
        "\n",
        "        writer.add_scalar('Loss/train', loss_train, epoch)\n",
        "        writer.add_scalar('Loss/val', loss_val, epoch)\n",
        "        writer.add_scalar('Acc/train', epoch_train_acc, epoch)\n",
        "        writer.add_scalar('Acc/val', epoch_val_acc, epoch)\n",
        "\n",
        "        # Check whether we need to save the model to a checkpoint file\n",
        "        if epoch % checkpoint_frequency == 0:\n",
        "            save_checkpoint(model, epoch, \"./saved_models\")\n",
        "        # Check whether we should stop the training based on the validation accuracy\n",
        "        if early_stopper.should_stop(epoch_val_acc):\n",
        "            print(f\"\\nValidation accuracy has not improved in {early_stopper.epoch_counter} epochs, stopping.\")\n",
        "            # if stopping, we also want to save the model's state\n",
        "            save_checkpoint(model, epoch, \"./saved_models\")\n",
        "            return"
      ],
      "metadata": {
        "id": "8gM1w_wEsrYm"
      },
      "id": "8gM1w_wEsrYm",
      "execution_count": null,
      "outputs": []
    },
    {
      "cell_type": "code",
      "source": [
        "# Putting it all together now, we can launch the final training run!\n",
        "epochs =   15            # increase epochs to show off early stopper\n",
        "batch_sz = 128           # increase batch size for faster processing\n",
        "checkpoint_frequency = 3 # save model to a file every 3 epochs\n",
        "\n",
        "\n",
        "# data loading with new batch size\n",
        "\n",
        "dataloaders = {\n",
        "    'train': train_dl,\n",
        "    'val': val_dl,\n",
        "    'test': test_dl\n",
        "}\n",
        "\n",
        "network = get_resnet()\n",
        "optim = SGD(network.parameters(), lr=learning_rate)  # Stochastic gradient descent optimiser\n",
        "lr_sch = ExponentialLR(optim, gamma=gamma)\n",
        "network = network.to(DEVICE)\n",
        "\n",
        "writer = SummaryWriter()\n",
        "stopper = EarlyStopper(patience=3, tolerance=0) # stop training if model accuracy is not better than the max so far 3 times in a row\n",
        "train_model_final(network, epochs, dataloaders, optim, lr_sch, writer, stopper, checkpoint_frequency)"
      ],
      "metadata": {
        "id": "B0c8b1ZTs1Em",
        "colab": {
          "base_uri": "https://localhost:8080/",
          "height": 247
        },
        "outputId": "f34553d3-d3b8-4f39-c025-0720e292f72f"
      },
      "id": "B0c8b1ZTs1Em",
      "execution_count": null,
      "outputs": [
        {
          "output_type": "error",
          "ename": "NameError",
          "evalue": "name 'train_dl' is not defined",
          "traceback": [
            "\u001b[0;31m---------------------------------------------------------------------------\u001b[0m",
            "\u001b[0;31mNameError\u001b[0m                                 Traceback (most recent call last)",
            "\u001b[0;32m<ipython-input-5-090a13e66b13>\u001b[0m in \u001b[0;36m<cell line: 10>\u001b[0;34m()\u001b[0m\n\u001b[1;32m      8\u001b[0m \u001b[0;34m\u001b[0m\u001b[0m\n\u001b[1;32m      9\u001b[0m dataloaders = {\n\u001b[0;32m---> 10\u001b[0;31m     \u001b[0;34m'train'\u001b[0m\u001b[0;34m:\u001b[0m \u001b[0mtrain_dl\u001b[0m\u001b[0;34m,\u001b[0m\u001b[0;34m\u001b[0m\u001b[0;34m\u001b[0m\u001b[0m\n\u001b[0m\u001b[1;32m     11\u001b[0m     \u001b[0;34m'val'\u001b[0m\u001b[0;34m:\u001b[0m \u001b[0mval_dl\u001b[0m\u001b[0;34m,\u001b[0m\u001b[0;34m\u001b[0m\u001b[0;34m\u001b[0m\u001b[0m\n\u001b[1;32m     12\u001b[0m     \u001b[0;34m'test'\u001b[0m\u001b[0;34m:\u001b[0m \u001b[0mtest_dl\u001b[0m\u001b[0;34m\u001b[0m\u001b[0;34m\u001b[0m\u001b[0m\n",
            "\u001b[0;31mNameError\u001b[0m: name 'train_dl' is not defined"
          ]
        }
      ]
    },
    {
      "cell_type": "code",
      "execution_count": null,
      "metadata": {
        "id": "da71aed7",
        "colab": {
          "base_uri": "https://localhost:8080/",
          "height": 247
        },
        "outputId": "593c0dfe-31ca-447b-a7d3-d93005412e14"
      },
      "outputs": [
        {
          "output_type": "error",
          "ename": "NameError",
          "evalue": "name 'torch' is not defined",
          "traceback": [
            "\u001b[0;31m---------------------------------------------------------------------------\u001b[0m",
            "\u001b[0;31mNameError\u001b[0m                                 Traceback (most recent call last)",
            "\u001b[0;32m<ipython-input-1-c2d072a7b450>\u001b[0m in \u001b[0;36m<cell line: 2>\u001b[0;34m()\u001b[0m\n\u001b[1;32m      1\u001b[0m \u001b[0mlast_epoch\u001b[0m \u001b[0;34m=\u001b[0m \u001b[0;36m10\u001b[0m\u001b[0;34m\u001b[0m\u001b[0;34m\u001b[0m\u001b[0m\n\u001b[0;32m----> 2\u001b[0;31m \u001b[0mloaded_net_state_dict\u001b[0m \u001b[0;34m=\u001b[0m \u001b[0mtorch\u001b[0m\u001b[0;34m.\u001b[0m\u001b[0mload\u001b[0m\u001b[0;34m(\u001b[0m\u001b[0;34mf\"./saved_models/checkpoint_{last_epoch}.pth\"\u001b[0m\u001b[0;34m)\u001b[0m\u001b[0;34m\u001b[0m\u001b[0;34m\u001b[0m\u001b[0m\n\u001b[0m\u001b[1;32m      3\u001b[0m \u001b[0mtrain_dl\u001b[0m\u001b[0;34m,\u001b[0m \u001b[0mval_dl\u001b[0m\u001b[0;34m,\u001b[0m \u001b[0mtest_dl\u001b[0m \u001b[0;34m=\u001b[0m \u001b[0mload_data\u001b[0m\u001b[0;34m(\u001b[0m\u001b[0mDATA_PATH\u001b[0m\u001b[0;34m,\u001b[0m \u001b[0mbatch_sz\u001b[0m\u001b[0;34m=\u001b[0m\u001b[0mbatch_sz\u001b[0m\u001b[0;34m)\u001b[0m\u001b[0;34m\u001b[0m\u001b[0;34m\u001b[0m\u001b[0m\n\u001b[1;32m      4\u001b[0m dataloaders = {\n\u001b[1;32m      5\u001b[0m     \u001b[0;34m'train'\u001b[0m\u001b[0;34m:\u001b[0m \u001b[0mtrain_dl\u001b[0m\u001b[0;34m,\u001b[0m\u001b[0;34m\u001b[0m\u001b[0;34m\u001b[0m\u001b[0m\n",
            "\u001b[0;31mNameError\u001b[0m: name 'torch' is not defined"
          ]
        }
      ],
      "source": [
        "last_epoch = 10\n",
        "loaded_net_state_dict = torch.load(f\"./saved_models/checkpoint_{last_epoch}.pth\")\n",
        "train_dl, val_dl, test_dl = load_data(DATA_PATH, batch_sz=batch_sz)\n",
        "dataloaders = {\n",
        "    'train': train_dl,\n",
        "    'val': val_dl,\n",
        "    'test': test_dl\n",
        "}"
      ],
      "id": "da71aed7"
    },
    {
      "cell_type": "code",
      "execution_count": null,
      "metadata": {
        "id": "20eb4b30"
      },
      "outputs": [],
      "source": [
        "def test_model(model, dataloaders):\n",
        "    model.eval()\n",
        "    correct = 0\n",
        "    total = 0\n",
        "\n",
        "    test_dl = dataloaders['test']\n",
        "    total_steps = len(test_dl)\n",
        "    msg = \"\"\n",
        "    for batch_num, (image_batch, label_batch) in enumerate(test_dl):\n",
        "        batch_sz = len(image_batch)\n",
        "        label_batch = label_batch.to(DEVICE)\n",
        "        image_batch = image_batch.to(DEVICE).reshape(batch_sz, 1, 28, 28)\n",
        "        out = model(image_batch)\n",
        "        preds = torch.argmax(out, dim=1)\n",
        "        correct += int(torch.eq(preds, label_batch).sum())\n",
        "        total += label_batch.shape[0]\n",
        "        if (batch_num + 1) % 5 == 0:\n",
        "            print(\" \" * len(msg), end='\\r')\n",
        "            msg = f'Testing batch[{batch_num + 1}/{total_steps}]'\n",
        "            print (msg, end='\\r' if batch_num < total_steps else \"\\n\", flush=True)\n",
        "    print(f\"\\nFinal test accuracy for {total} examples: {100 * correct/total:.5f}\")"
      ],
      "id": "20eb4b30"
    },
    {
      "cell_type": "code",
      "execution_count": null,
      "metadata": {
        "id": "02ce501e"
      },
      "outputs": [],
      "source": [
        "import pytorch_lightning as pl"
      ],
      "id": "02ce501e"
    }
  ],
  "metadata": {
    "colab": {
      "provenance": []
    },
    "kernelspec": {
      "display_name": "Python 3 (ipykernel)",
      "language": "python",
      "name": "python3"
    },
    "language_info": {
      "codemirror_mode": {
        "name": "ipython",
        "version": 3
      },
      "file_extension": ".py",
      "mimetype": "text/x-python",
      "name": "python",
      "nbconvert_exporter": "python",
      "pygments_lexer": "ipython3",
      "version": "3.9.12"
    }
  },
  "nbformat": 4,
  "nbformat_minor": 5
}